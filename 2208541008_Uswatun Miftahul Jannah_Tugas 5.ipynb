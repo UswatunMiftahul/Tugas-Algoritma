{
 "cells": [
  {
   "cell_type": "markdown",
   "id": "78eb6079",
   "metadata": {},
   "source": [
    "Pertemuan ke-5 \n",
    "Pada tugas kali ini ada 5 materi yang akan coba. Materi dari 5.16 List 2 Dimensi hingga materi 5.20 Numpy"
   ]
  },
  {
   "cell_type": "markdown",
   "id": "b13f522c",
   "metadata": {},
   "source": [
    "5.16\n",
    "LIST 2 DIMENSI = List 2 dimensi biasanya digunakan untuk menyimpan struktur data yang kompleks seperti tabel, matriks"
   ]
  },
  {
   "cell_type": "code",
   "execution_count": 9,
   "id": "9bed7f65",
   "metadata": {},
   "outputs": [
    {
     "name": "stdout",
     "output_type": "stream",
     "text": [
      "[['mangga', 'melon', 'pepaya'], ['nanas', 'apel', 'jeruk'], ['anggur', 'klengkeng', 'srikaya']]\n"
     ]
    },
    {
     "data": {
      "text/plain": [
       "['anggur', 'klengkeng', 'srikaya']"
      ]
     },
     "execution_count": 9,
     "metadata": {},
     "output_type": "execute_result"
    }
   ],
   "source": [
    "#latihan penerapan list 2 dimensi pada python\n",
    "#list buah dengan 2 dimensi \n",
    "buah = [\n",
    "    [\"mangga\", \"melon\", \"pepaya\"],\n",
    "    [\"nanas\", \"apel\", \"jeruk\"],\n",
    "    [\"anggur\", \"klengkeng\", \"srikaya\"]\n",
    "]\n",
    "\n",
    "#misalkan saya ingin menampilkan semua isi dalam list 2 dimensi (buah), maka kode nya adalah\n",
    "print(buah)\n",
    "\n",
    "#misalkan saya ingin menampilkan baris kedua dalam list 2 dimensi (buah), maka kode nya adalah\n",
    "buah[2]"
   ]
  },
  {
   "cell_type": "code",
   "execution_count": 10,
   "id": "b6f020c0",
   "metadata": {},
   "outputs": [
    {
     "data": {
      "text/plain": [
       "'klengkeng'"
      ]
     },
     "execution_count": 10,
     "metadata": {},
     "output_type": "execute_result"
    }
   ],
   "source": [
    "#misalkan saya ingin mengambil 'klengkeng'\n",
    "buah[2][1]\n",
    "#angka dua pada kode diatas menunjukkan indeks list yang akan kita akses yaitu pada baris kedua\n",
    "#kemudian setelah dapat list nya baru akan mengambil isinya yaitu pada kolom ke 1"
   ]
  },
  {
   "cell_type": "code",
   "execution_count": 12,
   "id": "94744f6d",
   "metadata": {},
   "outputs": [
    {
     "name": "stdout",
     "output_type": "stream",
     "text": [
      "stroberi\n"
     ]
    },
    {
     "data": {
      "text/plain": [
       "[['mangga', 'melon', 'pepaya'],\n",
       " ['stroberi', 'apel', 'jeruk'],\n",
       " ['anggur', 'klengkeng', 'srikaya']]"
      ]
     },
     "execution_count": 12,
     "metadata": {},
     "output_type": "execute_result"
    }
   ],
   "source": [
    "buah[1][0]=\"stroberi\"\n",
    "print(buah[1][0])\n",
    "#mengganti kata \"nanas\" yang terletak pada indeks baris ke 2 kolom ke 0 dengan kata \"stroberi\"\n",
    "\n",
    "buah\n",
    "#lalu kode ini untuk memanggil isi list kembali dengan kalimat yang baru sesuai dengan kalimat yang telah diganti"
   ]
  },
  {
   "cell_type": "code",
   "execution_count": 15,
   "id": "c94d1c16",
   "metadata": {
    "scrolled": true
   },
   "outputs": [
    {
     "name": "stdout",
     "output_type": "stream",
     "text": [
      "['mangga', 'melon', 'pepaya']\n",
      "mangga\n",
      "melon\n",
      "pepaya\n",
      "['stroberi', 'apel', 'jeruk']\n",
      "stroberi\n",
      "apel\n",
      "jeruk\n",
      "['anggur', 'klengkeng', 'srikaya']\n",
      "anggur\n",
      "klengkeng\n",
      "srikaya\n"
     ]
    }
   ],
   "source": [
    "#memanggil anggota dari list buah\n",
    "for baris in buah:\n",
    "    print(baris)\n",
    "    #menampilkan baris pada list buah\n",
    "    for kolom in baris:\n",
    "        print(kolom)\n",
    "    #menampilkan kolom sesuai urutan baris"
   ]
  },
  {
   "cell_type": "code",
   "execution_count": 16,
   "id": "1929be67",
   "metadata": {},
   "outputs": [
    {
     "name": "stdout",
     "output_type": "stream",
     "text": [
      "['mangga', 'melon', 'pepaya']\n",
      "['stroberi', 'apel', 'jeruk']\n",
      "['anggur', 'klengkeng', 'srikaya']\n"
     ]
    }
   ],
   "source": [
    "#lalu kita juga bisa memanggil isi list menggunakan for loop\n",
    "for seger in buah:\n",
    "    print(seger)"
   ]
  },
  {
   "cell_type": "markdown",
   "id": "02a9711b",
   "metadata": {},
   "source": [
    "5.17\n",
    "TUPLES = Tuples berfungsi untuk menampung sekumpulan data hampir sama dengan list, perbedaan tuples dengan list adalah kurung yang digunakan berbeda dan tipe data tuples bersifat tidak dapat diubah yang berarti elemen pada tipe data tuples tidak dapat diubah setelah proses pendeklarasiannya. Tipe data ini diawali dengan tanda kurung buka \"(\", memisahkan setiap elemen di dalamnya dengan tanda koma ( , ), penulisan nilai menggunakan \"\" dan ditutup dengan tanda kurung tutup \")\"."
   ]
  },
  {
   "cell_type": "code",
   "execution_count": 22,
   "id": "c250bccd",
   "metadata": {
    "scrolled": true
   },
   "outputs": [
    {
     "name": "stdout",
     "output_type": "stream",
     "text": [
      "('kucing', 'marmut', 'kelinci', 'panda')\n",
      "marmut\n",
      "('kucing', 'marmut')\n",
      "kucing\n",
      "marmut\n",
      "kelinci\n",
      "panda\n"
     ]
    }
   ],
   "source": [
    "#latihan penerapan tuples pada python\n",
    "\n",
    "#contoh isi data tuples adalah hewan\n",
    "hewan = (\"kucing\", \"marmut\", \"kelinci\", \"panda\")\n",
    "\n",
    "#jika ingin memanggil isi tuples semua adalah menggunakan\n",
    "print(hewan)\n",
    "\n",
    "#memanggil indeks pada posisi ke 1\n",
    "print(hewan[1])\n",
    "\n",
    "#memanggil urutan isi data tuples dari posisi indeks ke 0 sampai dengan 2\n",
    "#posisi indeks ke 2 tidak akan ikut karna aturan dalam python begitu\n",
    "print(hewan[0:2])\n",
    "\n",
    "#kita juga bisa memanggil isi tuples menggunakan for looping\n",
    "#memanggil urutan isi data tuples dari 0 sampai 4 \n",
    "#dengan aturan pada python posisi indeks ke 4 tidak akan ikut\n",
    "for lucu in hewan[0:4]:\n",
    "    print(lucu)"
   ]
  },
  {
   "cell_type": "code",
   "execution_count": 28,
   "id": "031e8376",
   "metadata": {
    "scrolled": true
   },
   "outputs": [
    {
     "ename": "TypeError",
     "evalue": "'tuple' object does not support item assignment",
     "output_type": "error",
     "traceback": [
      "\u001b[1;31m---------------------------------------------------------------------------\u001b[0m",
      "\u001b[1;31mTypeError\u001b[0m                                 Traceback (most recent call last)",
      "Cell \u001b[1;32mIn[28], line 1\u001b[0m\n\u001b[1;32m----> 1\u001b[0m hewan[\u001b[38;5;124m\"\u001b[39m\u001b[38;5;124mpanda\u001b[39m\u001b[38;5;124m\"\u001b[39m]\u001b[38;5;241m=\u001b[39m\u001b[38;5;124m\"\u001b[39m\u001b[38;5;124mrusa\u001b[39m\u001b[38;5;124m\"\u001b[39m\n",
      "\u001b[1;31mTypeError\u001b[0m: 'tuple' object does not support item assignment"
     ]
    }
   ],
   "source": [
    "hewan[\"panda\"]=\"rusa\"\n",
    "#program tidak akan bisa berjalan atau akan adanya error karena tuples tidak bisa melakukan penggantian data"
   ]
  },
  {
   "cell_type": "code",
   "execution_count": 31,
   "id": "b9d79c8e",
   "metadata": {},
   "outputs": [
    {
     "ename": "AttributeError",
     "evalue": "'tuple' object has no attribute 'append'",
     "output_type": "error",
     "traceback": [
      "\u001b[1;31m---------------------------------------------------------------------------\u001b[0m",
      "\u001b[1;31mAttributeError\u001b[0m                            Traceback (most recent call last)",
      "Cell \u001b[1;32mIn[31], line 1\u001b[0m\n\u001b[1;32m----> 1\u001b[0m \u001b[43mhewan\u001b[49m\u001b[38;5;241;43m.\u001b[39;49m\u001b[43mappend\u001b[49m(\u001b[38;5;124m\"\u001b[39m\u001b[38;5;124mrusa\u001b[39m\u001b[38;5;124m\"\u001b[39m)\n",
      "\u001b[1;31mAttributeError\u001b[0m: 'tuple' object has no attribute 'append'"
     ]
    }
   ],
   "source": [
    "hewan.append(\"rusa\")\n",
    "#program tidak akan bisa berjalan atau akan adanya error karena tuples tidak bisa menambahkan nilai baru dalam data"
   ]
  },
  {
   "cell_type": "code",
   "execution_count": 32,
   "id": "98148388",
   "metadata": {},
   "outputs": [
    {
     "ename": "AttributeError",
     "evalue": "'tuple' object has no attribute 'remove'",
     "output_type": "error",
     "traceback": [
      "\u001b[1;31m---------------------------------------------------------------------------\u001b[0m",
      "\u001b[1;31mAttributeError\u001b[0m                            Traceback (most recent call last)",
      "Cell \u001b[1;32mIn[32], line 1\u001b[0m\n\u001b[1;32m----> 1\u001b[0m \u001b[43mhewan\u001b[49m\u001b[38;5;241;43m.\u001b[39;49m\u001b[43mremove\u001b[49m(\u001b[38;5;124m\"\u001b[39m\u001b[38;5;124mkucing\u001b[39m\u001b[38;5;124m\"\u001b[39m)\n",
      "\u001b[1;31mAttributeError\u001b[0m: 'tuple' object has no attribute 'remove'"
     ]
    }
   ],
   "source": [
    "hewan.remove(\"kucing\")\n",
    "#program tidak akan bisa berjalan atau akan adanya error karena tuples tidak bisa menghapus data"
   ]
  },
  {
   "cell_type": "code",
   "execution_count": 36,
   "id": "a0e9d89d",
   "metadata": {},
   "outputs": [
    {
     "data": {
      "text/plain": [
       "1"
      ]
     },
     "execution_count": 36,
     "metadata": {},
     "output_type": "execute_result"
    }
   ],
   "source": [
    "hewan.count(\"kucing\")\n",
    "#Fungsi count ini berguna untuk menghitung beberapa kali kata \"kucing\" yang hadir dalam tuple"
   ]
  },
  {
   "cell_type": "code",
   "execution_count": 37,
   "id": "1dcd848d",
   "metadata": {},
   "outputs": [
    {
     "data": {
      "text/plain": [
       "2"
      ]
     },
     "execution_count": 37,
     "metadata": {},
     "output_type": "execute_result"
    }
   ],
   "source": [
    "hewan.index(\"kelinci\")\n",
    "#Fungsi index ini berguna untuk menemukan posisi indeks tertentu di hewan pada tupel"
   ]
  },
  {
   "cell_type": "markdown",
   "id": "7b4eadeb",
   "metadata": {},
   "source": [
    "5.18\n",
    "DICTIONARIES = Dictionary adalah tipe data pada python yang berfungsi untuk menyimpan kumpulan data/nilai dengan pendekatan “key-value”. Dictionary sendiri memiliki 3 sifat yaitu \n",
    "-ia tidak berurutan (sehingga key yang pertama kali kita definisikan, tidak berarti dia akan benar-benar menjadi yang “pertama” dibandingkan dengan key yang lainnya), \n",
    "-lalu kita bisa kita mengubah value yang telah kita masukkan ke dalam sebuah dictionary\n",
    "-dan dictionary tidak bisa memiliki lebih dari satu key yang sama"
   ]
  },
  {
   "cell_type": "code",
   "execution_count": 4,
   "id": "e494732a",
   "metadata": {},
   "outputs": [],
   "source": [
    "#latihan membuat dictionary\n",
    "#kita bisa mendeklarasikan menggunakan tanda kurung kurawa {}\n",
    "data = {\n",
    "    \"nama\" : \"Uswatun Miftahul Jannah\",\n",
    "    \"univ\" : \"Universitas Udayana\",\n",
    "    \"fakultas\" : \"Fakultas MIPA\"\n",
    "}"
   ]
  },
  {
   "cell_type": "code",
   "execution_count": 10,
   "id": "4c554491",
   "metadata": {},
   "outputs": [
    {
     "name": "stdout",
     "output_type": "stream",
     "text": [
      "{'nama': 'Uswatun Miftahul Jannah', 'univ': 'Universitas Udayana', 'fakultas': 'Fakultas MIPA'}\n",
      "Uswatun Miftahul Jannah\n"
     ]
    },
    {
     "ename": "KeyError",
     "evalue": "'Nama'",
     "output_type": "error",
     "traceback": [
      "\u001b[1;31m---------------------------------------------------------------------------\u001b[0m",
      "\u001b[1;31mKeyError\u001b[0m                                  Traceback (most recent call last)",
      "Cell \u001b[1;32mIn[10], line 7\u001b[0m\n\u001b[0;32m      4\u001b[0m \u001b[38;5;66;03m#kita juga bisa memanggil hanya nama nya saja\u001b[39;00m\n\u001b[0;32m      5\u001b[0m \u001b[38;5;28mprint\u001b[39m(data[\u001b[38;5;124m\"\u001b[39m\u001b[38;5;124mnama\u001b[39m\u001b[38;5;124m\"\u001b[39m])\n\u001b[1;32m----> 7\u001b[0m \u001b[38;5;28mprint\u001b[39m(\u001b[43mdata\u001b[49m\u001b[43m[\u001b[49m\u001b[38;5;124;43m\"\u001b[39;49m\u001b[38;5;124;43mNama\u001b[39;49m\u001b[38;5;124;43m\"\u001b[39;49m\u001b[43m]\u001b[49m)\n",
      "\u001b[1;31mKeyError\u001b[0m: 'Nama'"
     ]
    }
   ],
   "source": [
    "#kita bisa memanggil isi data dengan:\n",
    "print(data)\n",
    "\n",
    "#kita juga bisa memanggil hanya nama nya saja\n",
    "print(data[\"nama\"])\n",
    "\n",
    "#akan terjadi error disini karna key nya salah yang bener harusnya \"nama\"\n",
    "print(data[\"Nama\"])"
   ]
  },
  {
   "cell_type": "code",
   "execution_count": 11,
   "id": "e17aef6d",
   "metadata": {},
   "outputs": [
    {
     "name": "stdout",
     "output_type": "stream",
     "text": [
      "Uswatun Miftahul Jannah\n"
     ]
    }
   ],
   "source": [
    "#kelebihan fungsi get adalah kita bisa mengatur nilai default jika key pada dictionary yang kita panggil tidak ditemukan \n",
    "#hal itu akan mencegah sistem untuk menampilkan error\n",
    "print(data.get('nama'))"
   ]
  },
  {
   "cell_type": "code",
   "execution_count": 12,
   "id": "9b38e57f",
   "metadata": {},
   "outputs": [
    {
     "name": "stdout",
     "output_type": "stream",
     "text": [
      "None\n"
     ]
    }
   ],
   "source": [
    "print(data.get('tanggal_lahir'))\n",
    "#data tanggal lahir tdak akan ditemukan karna tidak tidak ada key tanggal lahir di data"
   ]
  },
  {
   "cell_type": "code",
   "execution_count": 14,
   "id": "8bef831c",
   "metadata": {},
   "outputs": [
    {
     "name": "stdout",
     "output_type": "stream",
     "text": [
      "27-10-2003\n",
      "{'nama': 'Uswatun Miftahul Jannah', 'univ': 'Universitas Udayana', 'fakultas': 'Fakultas MIPA'}\n"
     ]
    }
   ],
   "source": [
    "print(data.get('tanggal_lahir','27-10-2003'))\n",
    "\n",
    "#jika kita menggunakan get data tanggal lahir tidak akan masuk kedalam data dictionary\n",
    "#jadi sifat data tanggal lahir adalah tidak permanen\n",
    "print(data)"
   ]
  },
  {
   "cell_type": "code",
   "execution_count": 15,
   "id": "8f9b9383",
   "metadata": {},
   "outputs": [
    {
     "ename": "KeyError",
     "evalue": "'tanggal_lahir'",
     "output_type": "error",
     "traceback": [
      "\u001b[1;31m---------------------------------------------------------------------------\u001b[0m",
      "\u001b[1;31mKeyError\u001b[0m                                  Traceback (most recent call last)",
      "Cell \u001b[1;32mIn[15], line 1\u001b[0m\n\u001b[1;32m----> 1\u001b[0m \u001b[38;5;28mprint\u001b[39m(\u001b[43mdata\u001b[49m\u001b[43m[\u001b[49m\u001b[38;5;124;43m'\u001b[39;49m\u001b[38;5;124;43mtanggal_lahir\u001b[39;49m\u001b[38;5;124;43m'\u001b[39;49m\u001b[43m]\u001b[49m)\n",
      "\u001b[1;31mKeyError\u001b[0m: 'tanggal_lahir'"
     ]
    }
   ],
   "source": [
    "print(data['tanggal_lahir'])\n",
    "#dan data tanggal lahir tidak bisa di panggil disni"
   ]
  },
  {
   "cell_type": "code",
   "execution_count": 18,
   "id": "c99fb596",
   "metadata": {},
   "outputs": [
    {
     "name": "stdout",
     "output_type": "stream",
     "text": [
      "{'nama': 'Uswatun Miftahul Jannah', 'univ': 'Universitas Udayana', 'fakultas': 'Fakultas MIPA', 'tanggal_lahir': '27-10-2003'}\n"
     ]
    }
   ],
   "source": [
    "#disini kita akan menambahkan data baru\n",
    "data['tanggal_lahir'] = '27-10-2003'\n",
    "#lalu kita print ulang\n",
    "print(data)"
   ]
  },
  {
   "cell_type": "markdown",
   "id": "e46b2d5d",
   "metadata": {},
   "source": [
    "5.19\n",
    "Fungsi dalam Python = fungsi dalam python merupakan kumpulan perintah yang dikelompokkan menjadi satu, fungsi yang telah dibuat  ini nantinya akan bisa dipanggil serta digunakan berulang kali"
   ]
  },
  {
   "cell_type": "code",
   "execution_count": 21,
   "id": "298cbb48",
   "metadata": {},
   "outputs": [],
   "source": [
    "#dalam python sintaks pembuatan fungsi terlihat seperti berikut:\n",
    "def full_nama(first_name,last_name):\n",
    "    print(f\"Nama lengkapnya anda adalah {first_name} {last_name}\")\n",
    "\n",
    "#kata kunci def yang menjadi pertanda bahwa blok kode program adalah sebuah fungsi\n",
    "#lalu setelah itu ada nama fungsi yang kita buat\n",
    "#selanjutnya yang didalam kurung adalah parameters yang akan diterima oleh fungsi yang kita buat\n",
    "#lalu dibawahnya ada blok kode fungsi yang di sana akan kita tulis perintah-perintah yang harus dilakukan oleh sebuah fungsi"
   ]
  },
  {
   "cell_type": "code",
   "execution_count": 22,
   "id": "1ad39256",
   "metadata": {},
   "outputs": [
    {
     "name": "stdout",
     "output_type": "stream",
     "text": [
      "Nama depan anda adalah Uswatun\n",
      "Nama belakang anda adalah Miftahul\n",
      "Nama lengkapnya anda adalah Uswatun Miftahul\n"
     ]
    }
   ],
   "source": [
    "#contoh sebuah fungsi\n",
    "first_name = input(\"Nama depan anda adalah \")\n",
    "last_name = input (\"Nama belakang anda adalah \")\n",
    "full_nama(first_name, last_name)"
   ]
  },
  {
   "cell_type": "markdown",
   "id": "23c8a0a8",
   "metadata": {},
   "source": [
    "5.20\n",
    "NUMPY adalah library Python yang fokus pada scientific computing\n",
    "Numpy menyediakan fungsi yang siap pakai untuk memudahkan kita melakukan perhitungan saintifik seperti matriks, aljabar, statistik, dan sebagainya."
   ]
  },
  {
   "cell_type": "code",
   "execution_count": 29,
   "id": "0b3d83de",
   "metadata": {},
   "outputs": [],
   "source": [
    "#hal pertama yg dilakukan adalah kita memanggil library numpy\n",
    "import numpy as np"
   ]
  },
  {
   "cell_type": "markdown",
   "id": "e8ca0b1c",
   "metadata": {},
   "source": [
    "5.20.1 Perintah Dasar pada Numpy"
   ]
  },
  {
   "cell_type": "code",
   "execution_count": 39,
   "id": "69127783",
   "metadata": {},
   "outputs": [
    {
     "name": "stdout",
     "output_type": "stream",
     "text": [
      "[0 1 2 3 4]\n",
      "[[ 5  6  7  8]\n",
      " [ 9 10 11 12]]\n",
      "[[[ 0  1  2  3]\n",
      "  [ 4  5  6  7]]\n",
      "\n",
      " [[ 8  9 10 11]\n",
      "  [12 13 14 15]]\n",
      "\n",
      " [[16 17 18 19]\n",
      "  [19 20 21 22]]]\n"
     ]
    }
   ],
   "source": [
    "#latihan pertama kita membuat array dengan numpy\n",
    "\n",
    "#contoh np array 1 baris\n",
    "lat_1 = np.array([0,1,2,3,4])\n",
    "\n",
    "#mengakses data pada array\n",
    "print(lat_1)\n",
    "\n",
    "#contoh np array 2 baris\n",
    "lat_2 = np.array([[5,6,7,8],[9,10,11,12]])\n",
    "print(lat_2)\n",
    "\n",
    "#contoh np array 3 baris\n",
    "lat_3 = np.array([[[0,1,2,3],[4,5,6,7]],\n",
    "              [[8,9,10,11],[12,13,14,15]],\n",
    "              [[16,17,18,19],[19,20,21,22]]])\n",
    "print(lat_3)"
   ]
  },
  {
   "cell_type": "code",
   "execution_count": 40,
   "id": "726aee82",
   "metadata": {},
   "outputs": [
    {
     "data": {
      "text/plain": [
       "1"
      ]
     },
     "execution_count": 40,
     "metadata": {},
     "output_type": "execute_result"
    }
   ],
   "source": [
    "#mengetahui banyaknya dimensi dari variabel lat_1\n",
    "lat_1.ndim"
   ]
  },
  {
   "cell_type": "code",
   "execution_count": 41,
   "id": "3e74366e",
   "metadata": {},
   "outputs": [
    {
     "data": {
      "text/plain": [
       "2"
      ]
     },
     "execution_count": 41,
     "metadata": {},
     "output_type": "execute_result"
    }
   ],
   "source": [
    "#mengetahui banyaknya dimensi dari variabel lat_2\n",
    "lat_2.ndim"
   ]
  },
  {
   "cell_type": "code",
   "execution_count": 42,
   "id": "fffe37f8",
   "metadata": {},
   "outputs": [
    {
     "data": {
      "text/plain": [
       "3"
      ]
     },
     "execution_count": 42,
     "metadata": {},
     "output_type": "execute_result"
    }
   ],
   "source": [
    "#mengetahui banyaknya dimensi dari variabel lat_3\n",
    "lat_3.ndim"
   ]
  },
  {
   "cell_type": "code",
   "execution_count": 43,
   "id": "f3162f09",
   "metadata": {},
   "outputs": [
    {
     "data": {
      "text/plain": [
       "(5,)"
      ]
     },
     "execution_count": 43,
     "metadata": {},
     "output_type": "execute_result"
    }
   ],
   "source": [
    "#untuk mengetahui bentuk/shape dari variabel lat_1\n",
    "lat_1.shape"
   ]
  },
  {
   "cell_type": "code",
   "execution_count": 44,
   "id": "b38c5b3a",
   "metadata": {},
   "outputs": [
    {
     "data": {
      "text/plain": [
       "(2, 4)"
      ]
     },
     "execution_count": 44,
     "metadata": {},
     "output_type": "execute_result"
    }
   ],
   "source": [
    "#untuk mengetahui bentuk/shape dari variabel lat_2\n",
    "lat_2.shape"
   ]
  },
  {
   "cell_type": "markdown",
   "id": "2f0c2644",
   "metadata": {},
   "source": [
    "out menghasilkan (2,4) yang artinya variabel lat_2 berbentuk atau mempunyai 2 indeks kesamping dan setiap indeks mempunyai 4 anggota"
   ]
  },
  {
   "cell_type": "code",
   "execution_count": 45,
   "id": "2258fed3",
   "metadata": {},
   "outputs": [
    {
     "data": {
      "text/plain": [
       "(3, 2, 4)"
      ]
     },
     "execution_count": 45,
     "metadata": {},
     "output_type": "execute_result"
    }
   ],
   "source": [
    "#untuk mengetahui bentuk/shape dari variabel lat_3\n",
    "lat_3.shape"
   ]
  },
  {
   "cell_type": "markdown",
   "id": "fb2fb813",
   "metadata": {},
   "source": [
    "out menghasilkan (3,2,4) yang artinya variabel lat_3 berbentuk atau mempunyai 3 baris dengan 2 indeks kesamping dan setiap indeks mempunyai 4 anggota"
   ]
  },
  {
   "cell_type": "markdown",
   "id": "8b7ac68f",
   "metadata": {},
   "source": [
    "5.20.2 Memanggil Anggota, Kolom dan Baris dengan Numpy"
   ]
  },
  {
   "cell_type": "code",
   "execution_count": 46,
   "id": "fa358c7e",
   "metadata": {},
   "outputs": [
    {
     "name": "stdout",
     "output_type": "stream",
     "text": [
      "[[ 1  2  3  4]\n",
      " [ 5  6  7  8]\n",
      " [ 9 10 11 12]]\n"
     ]
    }
   ],
   "source": [
    "#membuat array dengan numpy\n",
    "lat_4 = np.array([[1,2,3,4],[5,6,7,8],[9,10,11,12]])\n",
    "\n",
    "#cara mengakses datanya\n",
    "print(lat_4)"
   ]
  },
  {
   "cell_type": "code",
   "execution_count": 48,
   "id": "77b7342b",
   "metadata": {},
   "outputs": [
    {
     "data": {
      "text/plain": [
       "8"
      ]
     },
     "execution_count": 48,
     "metadata": {},
     "output_type": "execute_result"
    }
   ],
   "source": [
    "#misal saya ingin mengambil angka 8, maka bisa diakses dengan:\n",
    "#ingat list atau array indeks nya selalu dimulai dari 0\n",
    "lat_4[1,3]\n",
    "\n",
    "#karna angka 8 berada didalam baris ke 1 dan kolom ke 3"
   ]
  },
  {
   "cell_type": "code",
   "execution_count": 50,
   "id": "521ff677",
   "metadata": {},
   "outputs": [
    {
     "data": {
      "text/plain": [
       "array([5, 6, 7, 8])"
      ]
     },
     "execution_count": 50,
     "metadata": {},
     "output_type": "execute_result"
    }
   ],
   "source": [
    "lat_4[1,:]\n",
    "#kode ini untuk menampilkan isi array pada baris ke 1"
   ]
  },
  {
   "cell_type": "code",
   "execution_count": 52,
   "id": "bbc4a1a5",
   "metadata": {},
   "outputs": [
    {
     "data": {
      "text/plain": [
       "array([ 3,  7, 11])"
      ]
     },
     "execution_count": 52,
     "metadata": {},
     "output_type": "execute_result"
    }
   ],
   "source": [
    "lat_4[:,2]\n",
    "#kode ini untuk menampilkan isi array pada kolom ke 2"
   ]
  },
  {
   "cell_type": "code",
   "execution_count": 53,
   "id": "a94fd9bd",
   "metadata": {},
   "outputs": [
    {
     "data": {
      "text/plain": [
       "array([6, 7, 8])"
      ]
     },
     "execution_count": 53,
     "metadata": {},
     "output_type": "execute_result"
    }
   ],
   "source": [
    "lat_4[1,1:4]\n",
    "#kode ini untuk menampilkan isi array pada baris ke 1 \n",
    "#dimulai dari indeks ke 1 sampai dengan ke 4, dengan posisi indeks yang ke 4 tidak ikut"
   ]
  },
  {
   "cell_type": "code",
   "execution_count": 55,
   "id": "53be923a",
   "metadata": {},
   "outputs": [
    {
     "data": {
      "text/plain": [
       "array([ 9, 11])"
      ]
     },
     "execution_count": 55,
     "metadata": {},
     "output_type": "execute_result"
    }
   ],
   "source": [
    "lat_4[2,0:4:2]\n",
    "#kode ini untuk menampilkan isi array pada baris ke 2\n",
    "#dimulai dari indeks ke 0 sampai dengan ke 4, dengan kelipatan 2"
   ]
  },
  {
   "cell_type": "code",
   "execution_count": 57,
   "id": "ef414a21",
   "metadata": {},
   "outputs": [
    {
     "name": "stdout",
     "output_type": "stream",
     "text": [
      "[[80  2  3  4]\n",
      " [ 5  6  7  8]\n",
      " [ 9 10 11 12]]\n"
     ]
    }
   ],
   "source": [
    "lat_4[0,0] = 80\n",
    "#kode ini untuk mengubah isi didalam array pada baris ke 0 dan kolom ke 0\n",
    "#yang sebelumnya angka 0 kita ubah menjadi angka 80\n",
    "\n",
    "print(lat_4)\n",
    "#lalu kita akses datanya"
   ]
  },
  {
   "cell_type": "markdown",
   "id": "18fc9705",
   "metadata": {},
   "source": [
    "5.20.3 Matriks pada Numpy"
   ]
  },
  {
   "cell_type": "code",
   "execution_count": 65,
   "id": "03bd6878",
   "metadata": {},
   "outputs": [
    {
     "name": "stdout",
     "output_type": "stream",
     "text": [
      "[[1. 1.]\n",
      " [1. 1.]\n",
      " [1. 1.]]\n",
      "[0. 0. 0. 0. 0.]\n"
     ]
    }
   ],
   "source": [
    "#array multidimensi\n",
    "#np.ones() digunakan untuk membuat array dengan anggota bernilai 1\n",
    "a = np.ones((3,2))\n",
    "print(a)\n",
    "\n",
    "#array satu dimensi\n",
    "#np.zeros() digunakan untuk membuat array dengan anggota bernilai 0\n",
    "b = np.zeros(5)\n",
    "print(b)"
   ]
  },
  {
   "cell_type": "code",
   "execution_count": 68,
   "id": "2536ee2f",
   "metadata": {},
   "outputs": [
    {
     "name": "stdout",
     "output_type": "stream",
     "text": [
      "[[1. 0. 0. 0. 0.]\n",
      " [0. 1. 0. 0. 0.]\n",
      " [0. 0. 1. 0. 0.]\n",
      " [0. 0. 0. 1. 0.]\n",
      " [0. 0. 0. 0. 1.]]\n"
     ]
    }
   ],
   "source": [
    "c = np.identity(5)\n",
    "print(c)\n",
    "#np.identity adalah matriks bujur sangkar yang semua elemen diagonal utamanya adalah 1 dan semua elemen lainnya sama dengan 0"
   ]
  },
  {
   "cell_type": "code",
   "execution_count": 69,
   "id": "29c40a53",
   "metadata": {},
   "outputs": [
    {
     "name": "stdout",
     "output_type": "stream",
     "text": [
      "[[8. 0. 0. 0. 0.]\n",
      " [0. 8. 0. 0. 0.]\n",
      " [0. 0. 8. 0. 0.]\n",
      " [0. 0. 0. 8. 0.]\n",
      " [0. 0. 0. 0. 8.]]\n"
     ]
    }
   ],
   "source": [
    "d = 8*c\n",
    "print(d)\n",
    "#kode ini untuk mengubah diagonal utama di dalam matriks bujur sangkar yang ada pada int [68]\n",
    "#mengubah diagonal utama nya 1 menjadi 8"
   ]
  },
  {
   "cell_type": "code",
   "execution_count": 70,
   "id": "aa1b4b96",
   "metadata": {},
   "outputs": [
    {
     "data": {
      "text/plain": [
       "array([[8, 8, 8],\n",
       "       [8, 8, 8]])"
      ]
     },
     "execution_count": 70,
     "metadata": {},
     "output_type": "execute_result"
    }
   ],
   "source": [
    "np.full((2,3),8)\n",
    "#np.full digunakan untuk membuat array dengan isinya adalah\n",
    "#2 baris, 3 kolom, dengan anggota bernilai 8"
   ]
  },
  {
   "cell_type": "code",
   "execution_count": 72,
   "id": "12e4def6",
   "metadata": {},
   "outputs": [
    {
     "data": {
      "text/plain": [
       "array([[0.80414441, 0.34619784, 0.13222024],\n",
       "       [0.53112044, 0.4590812 , 0.67890279]])"
      ]
     },
     "execution_count": 72,
     "metadata": {},
     "output_type": "execute_result"
    }
   ],
   "source": [
    "np.random.rand(2,3)\n",
    "#np.random.rand digunakan untuk membuat array bentuk tertentu dan mengisinya dengan nilai acak\n",
    "#disini (2,3) yang artinya 2 baris,3 kolom dengan anggota nilai acak"
   ]
  },
  {
   "cell_type": "code",
   "execution_count": 73,
   "id": "d43a7b87",
   "metadata": {},
   "outputs": [
    {
     "data": {
      "text/plain": [
       "array([[7, 7, 8, 4],\n",
       "       [4, 9, 1, 4],\n",
       "       [6, 7, 1, 4]])"
      ]
     },
     "execution_count": 73,
     "metadata": {},
     "output_type": "execute_result"
    }
   ],
   "source": [
    "np.random.randint(1,10,size=(3,4))\n",
    "#np.random.randint digunakan untuk melakukan random sampling di numpy.\n",
    "#Ini mengembalikan array dengan bentuk yang ditentukan dan mengisinya dengan bilangan bulat acak dari rendah (inklusif) hingga tinggi (eksklusif), yaitu dalam interval.\n",
    "#size : bentuk keluaran. Disini saya menulis size (3,4) yang artinya 3 baris dengan 4 kolom"
   ]
  },
  {
   "cell_type": "markdown",
   "id": "66d45b4a",
   "metadata": {},
   "source": [
    "5.20.4 Copy pada Numpy"
   ]
  },
  {
   "cell_type": "code",
   "execution_count": null,
   "id": "554ef439",
   "metadata": {},
   "outputs": [],
   "source": [
    "import numpy as np"
   ]
  },
  {
   "cell_type": "code",
   "execution_count": 2,
   "id": "c3dc425b",
   "metadata": {},
   "outputs": [
    {
     "name": "stdout",
     "output_type": "stream",
     "text": [
      "[2 3 4 5]\n"
     ]
    }
   ],
   "source": [
    "a = np.array([2,3,4,5])\n",
    "print(a)"
   ]
  },
  {
   "cell_type": "code",
   "execution_count": 4,
   "id": "3f1e9b75",
   "metadata": {},
   "outputs": [
    {
     "name": "stdout",
     "output_type": "stream",
     "text": [
      "[2 3 4 5]\n",
      "[2 3 4 5]\n"
     ]
    }
   ],
   "source": [
    "#awalnya, array 'a' dibuat dengan nilai [2, 3, 4, 5] \n",
    "#kemudian, referensi ke 'a' ditetapkan ke 'b' \n",
    "b = a\n",
    "print(b)\n",
    "\n",
    "#dan salinan 'a' dibuat menggunakan np.copy() dan ditetapkan ke 'c'\n",
    "c = np.copy(a)\n",
    "print(c)"
   ]
  },
  {
   "cell_type": "code",
   "execution_count": 5,
   "id": "568ecdbb",
   "metadata": {},
   "outputs": [
    {
     "name": "stdout",
     "output_type": "stream",
     "text": [
      "[2 8 4 5]\n",
      "[2 8 4 5]\n"
     ]
    }
   ],
   "source": [
    "b[1] = 8\n",
    "print(b)\n",
    "print(a)\n",
    "\n",
    "##kode ini untuk mengubah nilai elemen ke 1 'b' menjadi 8, nilai tersebut juga tercermin dalam 'a' \n",
    "#karena 'a' hanyalah referensi ke lokasi memori yang sama dengan 'b'. Jadi, 'a' juga mengandung [2, 8, 4 5]"
   ]
  },
  {
   "cell_type": "code",
   "execution_count": 10,
   "id": "7fb119fb",
   "metadata": {
    "scrolled": true
   },
   "outputs": [
    {
     "name": "stdout",
     "output_type": "stream",
     "text": [
      "[2 3 4 5]\n"
     ]
    }
   ],
   "source": [
    "print(c)\n",
    "#salinan 'c' tidak terpengaruh oleh perubahan 'b' karena merupakan salinan yang dalam dan memiliki lokasi memori tersendiri. \n",
    "#Jadi, 'c' berisi nilai asli [2, 3, 4, 5]"
   ]
  },
  {
   "cell_type": "markdown",
   "id": "a5deb130",
   "metadata": {},
   "source": [
    "5.20.5 Operasi Matematika pada Numpy"
   ]
  },
  {
   "cell_type": "code",
   "execution_count": 18,
   "id": "dbe93d99",
   "metadata": {},
   "outputs": [
    {
     "data": {
      "text/plain": [
       "array([3, 4, 5, 6])"
      ]
     },
     "execution_count": 18,
     "metadata": {},
     "output_type": "execute_result"
    }
   ],
   "source": [
    "a = np.array([1,2,3,4])\n",
    "a+2\n",
    "#untuk operasi penjumlahan array a ditambahkan 2"
   ]
  },
  {
   "cell_type": "code",
   "execution_count": 21,
   "id": "2f27668e",
   "metadata": {},
   "outputs": [
    {
     "data": {
      "text/plain": [
       "array([-1,  0,  1,  2])"
      ]
     },
     "execution_count": 21,
     "metadata": {},
     "output_type": "execute_result"
    }
   ],
   "source": [
    "a-2\n",
    "#untuk operasi pengurangan array a dikurang 2"
   ]
  },
  {
   "cell_type": "code",
   "execution_count": 22,
   "id": "b191bb93",
   "metadata": {},
   "outputs": [
    {
     "data": {
      "text/plain": [
       "array([2, 4, 6, 8])"
      ]
     },
     "execution_count": 22,
     "metadata": {},
     "output_type": "execute_result"
    }
   ],
   "source": [
    "a*2\n",
    "#untuk operasi perkalian array a dikali 2"
   ]
  },
  {
   "cell_type": "code",
   "execution_count": 23,
   "id": "717cad2a",
   "metadata": {},
   "outputs": [
    {
     "data": {
      "text/plain": [
       "array([0.5, 1. , 1.5, 2. ])"
      ]
     },
     "execution_count": 23,
     "metadata": {},
     "output_type": "execute_result"
    }
   ],
   "source": [
    "a/2\n",
    "#untuk operasi pembagian array a dibagi 2"
   ]
  },
  {
   "cell_type": "code",
   "execution_count": 24,
   "id": "3bcd1991",
   "metadata": {},
   "outputs": [
    {
     "data": {
      "text/plain": [
       "array([ 1,  4,  9, 16])"
      ]
     },
     "execution_count": 24,
     "metadata": {},
     "output_type": "execute_result"
    }
   ],
   "source": [
    "a**2\n",
    "#untuk operasi pangkat array a pangkat 2"
   ]
  },
  {
   "cell_type": "code",
   "execution_count": 25,
   "id": "45a30ab7",
   "metadata": {},
   "outputs": [
    {
     "data": {
      "text/plain": [
       "array([ 6,  8, 10, 12])"
      ]
     },
     "execution_count": 25,
     "metadata": {},
     "output_type": "execute_result"
    }
   ],
   "source": [
    "b = np.array([5,6,7,8])\n",
    "a+b\n",
    "#untuk operasi penjumlahan array a ditambah array b"
   ]
  },
  {
   "cell_type": "code",
   "execution_count": 26,
   "id": "6b867752",
   "metadata": {},
   "outputs": [
    {
     "data": {
      "text/plain": [
       "array([-4, -4, -4, -4])"
      ]
     },
     "execution_count": 26,
     "metadata": {},
     "output_type": "execute_result"
    }
   ],
   "source": [
    "a-b\n",
    "#untuk operasi pengurangan array a dikurang array b"
   ]
  },
  {
   "cell_type": "code",
   "execution_count": 27,
   "id": "29cde09e",
   "metadata": {},
   "outputs": [
    {
     "data": {
      "text/plain": [
       "array([ 5, 12, 21, 32])"
      ]
     },
     "execution_count": 27,
     "metadata": {},
     "output_type": "execute_result"
    }
   ],
   "source": [
    "a*b\n",
    "#untuk operasi perkalian array a dikali array b"
   ]
  },
  {
   "cell_type": "code",
   "execution_count": 28,
   "id": "2f86fe6c",
   "metadata": {},
   "outputs": [
    {
     "data": {
      "text/plain": [
       "array([0.2       , 0.33333333, 0.42857143, 0.5       ])"
      ]
     },
     "execution_count": 28,
     "metadata": {},
     "output_type": "execute_result"
    }
   ],
   "source": [
    "a/b\n",
    "#untuk operasi pembagian array a dibagi array b"
   ]
  },
  {
   "cell_type": "code",
   "execution_count": 29,
   "id": "3081fbe3",
   "metadata": {},
   "outputs": [
    {
     "data": {
      "text/plain": [
       "array([   5,   36,  343, 4096])"
      ]
     },
     "execution_count": 29,
     "metadata": {},
     "output_type": "execute_result"
    }
   ],
   "source": [
    "b**a\n",
    "#untuk operasi pangkat array b ber pangkat array a"
   ]
  },
  {
   "cell_type": "code",
   "execution_count": 31,
   "id": "25b0f099",
   "metadata": {},
   "outputs": [
    {
     "data": {
      "text/plain": [
       "1.0"
      ]
     },
     "execution_count": 31,
     "metadata": {},
     "output_type": "execute_result"
    }
   ],
   "source": [
    "np.cos(0)\n",
    "#latihan ini saya menggunakan np.cos untuk menghitung cosinus dari 0, yaitu 1."
   ]
  },
  {
   "cell_type": "markdown",
   "id": "812f8c8f",
   "metadata": {},
   "source": [
    "5.20.6 Perkalian Matriks pada Numpy"
   ]
  },
  {
   "cell_type": "code",
   "execution_count": 36,
   "id": "8405f154",
   "metadata": {},
   "outputs": [
    {
     "name": "stdout",
     "output_type": "stream",
     "text": [
      "[[1 2 3 4]\n",
      " [5 6 7 8]]\n",
      "[[ 9 10 11 12]\n",
      " [13 14 15 16]]\n"
     ]
    }
   ],
   "source": [
    "#lat ini saya akan membuat 2 matriks berukuran 2x4\n",
    "x = np.array([[1,2,3,4],[5,6,7,8]])\n",
    "print(x)\n",
    "y = np.array([[9,10,11,12],[13,14,15,16]])\n",
    "print(y)"
   ]
  },
  {
   "cell_type": "code",
   "execution_count": 39,
   "id": "0b5914ea",
   "metadata": {},
   "outputs": [
    {
     "name": "stdout",
     "output_type": "stream",
     "text": [
      "[[  9  20  33  48]\n",
      " [ 65  84 105 128]]\n"
     ]
    }
   ],
   "source": [
    "c = x*y\n",
    "#untuk perkalian dua buah matriks yaitu matriks x dengan matriks y\n",
    "print(c)"
   ]
  },
  {
   "cell_type": "code",
   "execution_count": 1,
   "id": "4a865f8e",
   "metadata": {},
   "outputs": [
    {
     "ename": "NameError",
     "evalue": "name 'np' is not defined",
     "output_type": "error",
     "traceback": [
      "\u001b[1;31m---------------------------------------------------------------------------\u001b[0m",
      "\u001b[1;31mNameError\u001b[0m                                 Traceback (most recent call last)",
      "Cell \u001b[1;32mIn[1], line 1\u001b[0m\n\u001b[1;32m----> 1\u001b[0m d \u001b[38;5;241m=\u001b[39m \u001b[43mnp\u001b[49m\u001b[38;5;241m.\u001b[39mmatmul(x,y)\n\u001b[0;32m      2\u001b[0m \u001b[38;5;28mprint\u001b[39m(d)\n",
      "\u001b[1;31mNameError\u001b[0m: name 'np' is not defined"
     ]
    }
   ],
   "source": [
    "d = np.matmul(x,y)\n",
    "print(d)\n",
    "#terjadi error disini karna matriks ordo 2x4 tidak bisa dikalikan dengan matriks ordo 2x4"
   ]
  },
  {
   "cell_type": "code",
   "execution_count": 41,
   "id": "6c717f74",
   "metadata": {},
   "outputs": [
    {
     "name": "stdout",
     "output_type": "stream",
     "text": [
      "[[ 9 10]\n",
      " [11 12]\n",
      " [13 14]\n",
      " [15 16]]\n"
     ]
    }
   ],
   "source": [
    "e = np.array([[9,10],[11,12],[13,14],[15,16]])\n",
    "print(e)"
   ]
  },
  {
   "cell_type": "code",
   "execution_count": 43,
   "id": "5e97626c",
   "metadata": {},
   "outputs": [
    {
     "name": "stdout",
     "output_type": "stream",
     "text": [
      "[130 140]\n"
     ]
    }
   ],
   "source": [
    "f = np.matmul(a,e)\n",
    "print(f)\n",
    "#perkalian matriks a dengan matriks e"
   ]
  },
  {
   "cell_type": "markdown",
   "id": "51a73f17",
   "metadata": {},
   "source": [
    "5.20.7 min, max, dan sum pada Numpy"
   ]
  },
  {
   "cell_type": "code",
   "execution_count": 44,
   "id": "4e7e22a9",
   "metadata": {},
   "outputs": [
    {
     "name": "stdout",
     "output_type": "stream",
     "text": [
      "[[ 1  2  3  4]\n",
      " [ 5  6  7  8]\n",
      " [ 9 10 11 12]]\n"
     ]
    }
   ],
   "source": [
    "a = np.array([[1,2,3,4],\n",
    "              [5,6,7,8],\n",
    "              [9,10,11,12]])\n",
    "print(a)"
   ]
  },
  {
   "cell_type": "code",
   "execution_count": 45,
   "id": "41465e5a",
   "metadata": {},
   "outputs": [
    {
     "name": "stdout",
     "output_type": "stream",
     "text": [
      "1\n"
     ]
    }
   ],
   "source": [
    "b = np.min(a)\n",
    "print(b)\n",
    "\n",
    "#np.min digunakan untuk mencari nilai minium dari array a"
   ]
  },
  {
   "cell_type": "code",
   "execution_count": 49,
   "id": "37151599",
   "metadata": {},
   "outputs": [
    {
     "name": "stdout",
     "output_type": "stream",
     "text": [
      "[1 2 3 4]\n"
     ]
    }
   ],
   "source": [
    "c = np.min(a,axis=0)\n",
    "print(c)\n",
    "#bila axis=0 maka akan mengoperasikan baris saja\n",
    "#artinya baris bilangan terkecil dari array a"
   ]
  },
  {
   "cell_type": "code",
   "execution_count": 51,
   "id": "d1455544",
   "metadata": {},
   "outputs": [
    {
     "name": "stdout",
     "output_type": "stream",
     "text": [
      "[1 5 9]\n"
     ]
    }
   ],
   "source": [
    "d = np.min(a,axis=1)\n",
    "print(d)\n",
    "#bila axis=1 maka akan mengoperasikan kolom saja\n",
    "#artinya kolom bilangan terkecil dari array a"
   ]
  },
  {
   "cell_type": "code",
   "execution_count": 52,
   "id": "d10d0fbb",
   "metadata": {},
   "outputs": [
    {
     "name": "stdout",
     "output_type": "stream",
     "text": [
      "12\n"
     ]
    }
   ],
   "source": [
    "e = np.max(a)\n",
    "print(e)\n",
    "\n",
    "#np.max digunakan untuk mencari nilai maksimum dari array a"
   ]
  },
  {
   "cell_type": "code",
   "execution_count": 54,
   "id": "921aae66",
   "metadata": {},
   "outputs": [
    {
     "name": "stdout",
     "output_type": "stream",
     "text": [
      "[ 9 10 11 12]\n"
     ]
    }
   ],
   "source": [
    "f = np.max(a,axis=0)\n",
    "print(f)\n",
    "#bila axis=0 maka akan mengoperasikan baris saja\n",
    "#artinya baris bilangan terbesar dari array a"
   ]
  },
  {
   "cell_type": "code",
   "execution_count": 55,
   "id": "900389b7",
   "metadata": {},
   "outputs": [
    {
     "name": "stdout",
     "output_type": "stream",
     "text": [
      "[ 4  8 12]\n"
     ]
    }
   ],
   "source": [
    "g = np.max(a,axis=1)\n",
    "print(g)\n",
    "#bila axis=1 maka akan mengoperasikan kolom saja\n",
    "#artinya kolom bilangan terbesar dari array a"
   ]
  },
  {
   "cell_type": "code",
   "execution_count": 57,
   "id": "c3b863eb",
   "metadata": {},
   "outputs": [
    {
     "name": "stdout",
     "output_type": "stream",
     "text": [
      "78\n"
     ]
    }
   ],
   "source": [
    "h = np.sum(a)\n",
    "print(h)\n",
    "\n",
    "#np.sum digunakan untuk menjumlahkan semua bilangan yang berada di dalam array a"
   ]
  },
  {
   "cell_type": "code",
   "execution_count": 58,
   "id": "c0e52651",
   "metadata": {},
   "outputs": [
    {
     "name": "stdout",
     "output_type": "stream",
     "text": [
      "[15 18 21 24]\n"
     ]
    }
   ],
   "source": [
    "i = np.sum(a,axis=0)\n",
    "print(i)\n",
    "#digunakan untuk menjumlahkan setiap baris pada array a"
   ]
  },
  {
   "cell_type": "code",
   "execution_count": 59,
   "id": "90f2e58b",
   "metadata": {},
   "outputs": [
    {
     "name": "stdout",
     "output_type": "stream",
     "text": [
      "[10 26 42]\n"
     ]
    }
   ],
   "source": [
    "j = np.sum(a,axis=1)\n",
    "print(j)\n",
    "#digunakan untuk menjumlahkan setiap kolom pada array a"
   ]
  },
  {
   "cell_type": "code",
   "execution_count": null,
   "id": "9f2adabc",
   "metadata": {},
   "outputs": [],
   "source": []
  }
 ],
 "metadata": {
  "kernelspec": {
   "display_name": "Python 3 (ipykernel)",
   "language": "python",
   "name": "python3"
  },
  "language_info": {
   "codemirror_mode": {
    "name": "ipython",
    "version": 3
   },
   "file_extension": ".py",
   "mimetype": "text/x-python",
   "name": "python",
   "nbconvert_exporter": "python",
   "pygments_lexer": "ipython3",
   "version": "3.10.9"
  }
 },
 "nbformat": 4,
 "nbformat_minor": 5
}
