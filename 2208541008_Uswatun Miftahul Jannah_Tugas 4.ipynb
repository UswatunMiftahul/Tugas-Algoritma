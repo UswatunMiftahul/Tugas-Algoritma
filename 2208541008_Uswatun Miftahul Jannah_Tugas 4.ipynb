{
 "cells": [
  {
   "cell_type": "markdown",
   "id": "5a5b70f8",
   "metadata": {},
   "source": [
    "WHILE LOOP\n",
    "=> Perulangan yang jumlah proses pengulangannya tidak ditentukan. Ia akan menjalankan kodenya secara terus menerus selama masih memenuhi kriteria yang sudah ditentukan sebelumnya, yang berarti ia akan terus mengulang selama kondisi bernilai TRUE dan akan berhenti ketika bernilai FALSE."
   ]
  },
  {
   "cell_type": "code",
   "execution_count": null,
   "id": "abe203ae",
   "metadata": {},
   "outputs": [],
   "source": [
    "z = 0\n",
    "while z < 6:\n",
    "    print(\"Angka \"+ str(z)+\" kurang dari 6\")\n",
    "    z += 1\n",
    "    \n",
    "#Pertama-tama, kita inisialisasi nilai variabel z=0, \n",
    "#kemudian dilakukan perulangan dari z=0 sampai nilai z kurang dari 6. \n",
    "#Perulangan while di atas akan di ulang sebanyak 5 kali, mulai dari z = 0, z = 1, z = 2, z = 3, z = 4, hingga z = 5. \n",
    "#Ketika nilai variabel counter z sudah mencapai 6, maka kondisi while z < 5 tidak terpenuhi lagi (FALSE), \n",
    "#sehingga perulangan berhenti."
   ]
  },
  {
   "cell_type": "code",
   "execution_count": null,
   "id": "347b648b",
   "metadata": {},
   "outputs": [],
   "source": [
    "a =0 \n",
    "while a < 6:\n",
    "    a = a**2\n",
    "    a = + 1\n",
    "print(a)\n",
    "\n",
    "#Ada juga yang tdak muncul sperti ini karna perulangan nya selalu terpenuhi (TRUE) \n",
    "#jadi dia akan selalu melakukan pengulangan terus menerus"
   ]
  },
  {
   "cell_type": "code",
   "execution_count": 10,
   "id": "3355009d",
   "metadata": {},
   "outputs": [
    {
     "name": "stdout",
     "output_type": "stream",
     "text": [
      "ana\n",
      "eta\n",
      "ita\n",
      "hera\n",
      "amel\n"
     ]
    }
   ],
   "source": [
    "i = 0\n",
    "while i < len(nama):\n",
    "    print(nama[i])\n",
    "    i+=1\n",
    "    \n",
    "#menggunakan matriks (i kurang dari len [yaitu jumlah nama 4])"
   ]
  },
  {
   "cell_type": "markdown",
   "id": "6f2f518a",
   "metadata": {},
   "source": [
    "LIST \n",
    "=> List adalah tipe data yang paling serbaguna digunakan pada saat kita mengolah data dalam python."
   ]
  },
  {
   "cell_type": "code",
   "execution_count": null,
   "id": "8b3eef78",
   "metadata": {},
   "outputs": [],
   "source": [
    "#List ditulis sebagai daftar nilai yang dipisahkan koma \",\" antara tanda kurung siku dan penulisan nilai menggunakan \"\" atau ''\n",
    "hewan = [\"kucing\",\"panda\",\"harimau\",\"marmut\"]\n",
    "print(hewan)\n",
    "\n",
    "#memanggil urutan list kembali"
   ]
  },
  {
   "cell_type": "code",
   "execution_count": null,
   "id": "1d758e5f",
   "metadata": {},
   "outputs": [],
   "source": [
    "print(hewan[0])\n",
    "#memanggil indeks pada posisi ke 0\n",
    "\n",
    "print(hewan[-3])\n",
    "#memanggil indeks pada posisi ke -3 (jika negatif maka dimulai dari kiri)"
   ]
  },
  {
   "cell_type": "code",
   "execution_count": null,
   "id": "a419cf38",
   "metadata": {},
   "outputs": [],
   "source": [
    "hewan[2] = \"zebra\"\n",
    "print(hewan)\n",
    "#mengganti kata \"harimau\" yang terletak pada posisi indeks ke 2 dengan kata \"zebra\"\n",
    "\n",
    "print(hewan[0:3])\n",
    "#posisi indeks ke 3 tidak akan ikut karna aturan dalam python begitu\n",
    "\n",
    "print(hewan)\n",
    "#memanggil urutan list kembali dengan kalimat yang baru sesuai dengan data yang baru di input"
   ]
  },
  {
   "cell_type": "markdown",
   "id": "3fea76d2",
   "metadata": {},
   "source": [
    "METODA LIST "
   ]
  },
  {
   "cell_type": "code",
   "execution_count": 1,
   "id": "e1649862",
   "metadata": {},
   "outputs": [
    {
     "name": "stdout",
     "output_type": "stream",
     "text": [
      "['klengkeng', 'melon', 'jeruk', 'mangga']\n"
     ]
    }
   ],
   "source": [
    "buah = [\"klengkeng\", \"melon\",\"jeruk\"]\n",
    "buah.append(\"mangga\")\n",
    "print(buah)\n",
    "\n",
    "#Fungsi append ini berguna untuk menambahkan nilai baru dan nilai baru tersebut terletak pada urutan terakhir.\n",
    "#dapat dilihat bahwa jumlah data yang ada di dalam list variabel semula ada 3 kini menjadi 4 data. \n",
    "#Hal ini dikarenakan ada penambahan satu data secara langsung yaitu Mangga."
   ]
  },
  {
   "cell_type": "code",
   "execution_count": 2,
   "id": "3a95b12b",
   "metadata": {},
   "outputs": [
    {
     "name": "stdout",
     "output_type": "stream",
     "text": [
      "['klengkeng', 'melon', 'jeruk', 'manggis', 'mangga']\n"
     ]
    }
   ],
   "source": [
    "buah.insert(3,\"manggis\")\n",
    "print(buah)\n",
    "\n",
    "#Fungsi insert dipakai untuk memasukkan data baru pada bagian yang kita tentukan\n",
    "#dapat dilihat bahwa ada 4 jumlah data sebelumnya, lalu disini saya ingin menyisipkan kata \"manggis\" pada indeks ke 3\n",
    "#maka dapat dilihat bahwa kini jumlah data di dalam list buah  sudah bertambah menjadi 5 data, yang mana ada penambahan satu data yaitu \"manggis\"."
   ]
  },
  {
   "cell_type": "code",
   "execution_count": 3,
   "id": "848b0a10",
   "metadata": {},
   "outputs": [
    {
     "name": "stdout",
     "output_type": "stream",
     "text": [
      "['klengkeng', 'melon', 'manggis', 'mangga']\n"
     ]
    }
   ],
   "source": [
    "buah.remove(\"jeruk\")\n",
    "print(buah)\n",
    "\n",
    "#Fungsi remove dipakai untuk menghapus data di dalam sebuah list\n",
    "#disini saya akan memberikan variabel buah, lalu saya akan menghapus kata \"jeruk\" menggunakan fungsi remove \n",
    "#maka dapat dilihat bahwa data list \"jeruk\" tidak ada lagi dalam list variabel buah"
   ]
  },
  {
   "cell_type": "code",
   "execution_count": 4,
   "id": "74f7dfc2",
   "metadata": {},
   "outputs": [
    {
     "name": "stdout",
     "output_type": "stream",
     "text": [
      "True\n"
     ]
    }
   ],
   "source": [
    "print(\"klengkeng\" in buah)\n",
    "\n",
    "#jika hasil nya true maka kata \"klengkeng\" tersebut benar adanya pada data diatas"
   ]
  },
  {
   "cell_type": "code",
   "execution_count": 5,
   "id": "caf5ce0d",
   "metadata": {},
   "outputs": [
    {
     "name": "stdout",
     "output_type": "stream",
     "text": [
      "False\n"
     ]
    }
   ],
   "source": [
    "print(\"jeruk\" in buah)\n",
    "\n",
    "#jika hasil nya false maka berarti kata \"jeruk\" tersebut tidak ada pada data diatas"
   ]
  },
  {
   "cell_type": "code",
   "execution_count": 6,
   "id": "e3eb3e1a",
   "metadata": {},
   "outputs": [
    {
     "name": "stdout",
     "output_type": "stream",
     "text": [
      "4\n"
     ]
    }
   ],
   "source": [
    "print(len(buah))\n",
    "\n",
    "#menghitung indeks pada data list variabel buah diatas"
   ]
  },
  {
   "cell_type": "markdown",
   "id": "adc8c6a5",
   "metadata": {},
   "source": [
    "FOR LOOP\n",
    "=> Pengulangan for pada Python memiliki kemampuan untuk mengulangi item dari urutan apapun, seperti list atau string."
   ]
  },
  {
   "cell_type": "code",
   "execution_count": 7,
   "id": "e8a4ea5f",
   "metadata": {},
   "outputs": [
    {
     "name": "stdout",
     "output_type": "stream",
     "text": [
      "ana\n",
      "eta\n",
      "ita\n",
      "hera\n",
      "amel\n"
     ]
    }
   ],
   "source": [
    "nama = [\"ana\",\"eta\",\"ita\",\"hera\",\"amel\"]\n",
    "for jail in nama:\n",
    "    print(jail)\n",
    "    \n",
    "#menampilkan tiap item dari list yang telah kita buat"
   ]
  },
  {
   "cell_type": "code",
   "execution_count": 11,
   "id": "e39ff662",
   "metadata": {},
   "outputs": [
    {
     "name": "stdout",
     "output_type": "stream",
     "text": [
      "0\n",
      "1\n",
      "4\n",
      "9\n",
      "16\n"
     ]
    }
   ],
   "source": [
    "for i in [0,1,2,3,4]:\n",
    "    y = i**2\n",
    "    print(y)\n",
    "    \n",
    "#menggunakan matriks dengan rumus y = i pangkat 2, dan i dimulai dari 0"
   ]
  },
  {
   "cell_type": "markdown",
   "id": "1c09104c",
   "metadata": {},
   "source": [
    "FUNGSI RANGE\n",
    "=>  memberikan data list yang berurutan dengan rentang nilai sesuai yang kita tentukan"
   ]
  },
  {
   "cell_type": "code",
   "execution_count": 12,
   "id": "a5c5a1cd",
   "metadata": {},
   "outputs": [
    {
     "name": "stdout",
     "output_type": "stream",
     "text": [
      "range(0, 8)\n"
     ]
    }
   ],
   "source": [
    "angka = range(8)\n",
    "print(angka)\n",
    "\n",
    "#jika data yang di input hanya satu (x), range (10)\n",
    "#maka hasilnya adalah 0 hingga 8"
   ]
  },
  {
   "cell_type": "code",
   "execution_count": 13,
   "id": "da3cdea0",
   "metadata": {},
   "outputs": [
    {
     "name": "stdout",
     "output_type": "stream",
     "text": [
      "0\n",
      "1\n",
      "2\n",
      "3\n",
      "4\n",
      "5\n",
      "6\n",
      "7\n"
     ]
    }
   ],
   "source": [
    "for isi in angka:\n",
    "    print(isi)"
   ]
  },
  {
   "cell_type": "code",
   "execution_count": 14,
   "id": "c1882969",
   "metadata": {},
   "outputs": [
    {
     "name": "stdout",
     "output_type": "stream",
     "text": [
      "4\n",
      "5\n",
      "6\n",
      "7\n",
      "8\n",
      "9\n",
      "10\n",
      "11\n"
     ]
    }
   ],
   "source": [
    "for isi in range(4,12):\n",
    "    print(isi)\n",
    "    \n",
    "#jika data yang di input dua (x,y), range (4,12)\n",
    "#maka hasilnya adalah rentang yang dimulai dari 4 sampai mendekati 12 yaitu (11)"
   ]
  },
  {
   "cell_type": "code",
   "execution_count": 15,
   "id": "48bf2339",
   "metadata": {},
   "outputs": [
    {
     "name": "stdout",
     "output_type": "stream",
     "text": [
      "0\n",
      "2\n",
      "4\n",
      "6\n",
      "8\n",
      "10\n",
      "12\n",
      "14\n"
     ]
    }
   ],
   "source": [
    "for isi in range (0,16,2):\n",
    "    print(isi)\n",
    "    \n",
    "#jika data yang di input 3, range (0,16,2)\n",
    "#maka hasilnya adalah rentang yang dimulai dari 0 sampai mendekati 16 dengan kelipatan 2"
   ]
  },
  {
   "cell_type": "code",
   "execution_count": null,
   "id": "9aa0756f",
   "metadata": {},
   "outputs": [],
   "source": []
  }
 ],
 "metadata": {
  "kernelspec": {
   "display_name": "Python 3 (ipykernel)",
   "language": "python",
   "name": "python3"
  },
  "language_info": {
   "codemirror_mode": {
    "name": "ipython",
    "version": 3
   },
   "file_extension": ".py",
   "mimetype": "text/x-python",
   "name": "python",
   "nbconvert_exporter": "python",
   "pygments_lexer": "ipython3",
   "version": "3.10.9"
  }
 },
 "nbformat": 4,
 "nbformat_minor": 5
}
