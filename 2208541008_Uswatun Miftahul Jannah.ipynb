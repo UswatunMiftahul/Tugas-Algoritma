{
 "cells": [
  {
   "cell_type": "code",
   "execution_count": 3,
   "id": "8b2e994f",
   "metadata": {},
   "outputs": [
    {
     "name": "stdout",
     "output_type": "stream",
     "text": [
      "Ini Kelas Algoritma\n"
     ]
    }
   ],
   "source": [
    "print (\"Ini Kelas Algoritma\")"
   ]
  },
  {
   "cell_type": "code",
   "execution_count": 2,
   "id": "ccab229d",
   "metadata": {},
   "outputs": [
    {
     "ename": "SyntaxError",
     "evalue": "EOL while scanning string literal (1892877636.py, line 1)",
     "output_type": "error",
     "traceback": [
      "\u001b[1;36m  File \u001b[1;32m\"C:\\Users\\zYe\\AppData\\Local\\Temp\\ipykernel_14132\\1892877636.py\"\u001b[1;36m, line \u001b[1;32m1\u001b[0m\n\u001b[1;33m    print (\"hello')\u001b[0m\n\u001b[1;37m                   ^\u001b[0m\n\u001b[1;31mSyntaxError\u001b[0m\u001b[1;31m:\u001b[0m EOL while scanning string literal\n"
     ]
    }
   ],
   "source": [
    "print (\"hello')\n",
    "       \n",
    "#terjadi error karna tanda petiknya tidak sama"
   ]
  },
  {
   "cell_type": "code",
   "execution_count": 4,
   "id": "47f5dcff",
   "metadata": {},
   "outputs": [
    {
     "name": "stdout",
     "output_type": "stream",
     "text": [
      "10\n",
      "5\n",
      "15\n",
      "2.0\n"
     ]
    }
   ],
   "source": [
    "Kertas = 10\n",
    "Pulpen = 5\n",
    "print(Kertas)\n",
    "print(Pulpen)\n",
    "print(Kertas+Pulpen)\n",
    "print(Kertas/Pulpen)"
   ]
  },
  {
   "cell_type": "code",
   "execution_count": 12,
   "id": "955f860c",
   "metadata": {},
   "outputs": [
    {
     "ename": "NameError",
     "evalue": "name 'Motor' is not defined",
     "output_type": "error",
     "traceback": [
      "\u001b[1;31m---------------------------------------------------------------------------\u001b[0m",
      "\u001b[1;31mNameError\u001b[0m                                 Traceback (most recent call last)",
      "\u001b[1;32m~\\AppData\\Local\\Temp\\ipykernel_14132\\3827355815.py\u001b[0m in \u001b[0;36m<module>\u001b[1;34m\u001b[0m\n\u001b[0;32m      1\u001b[0m \u001b[0mmotor\u001b[0m \u001b[1;33m=\u001b[0m \u001b[1;36m5\u001b[0m\u001b[1;33m\u001b[0m\u001b[1;33m\u001b[0m\u001b[0m\n\u001b[0;32m      2\u001b[0m \u001b[0mmobil\u001b[0m \u001b[1;33m=\u001b[0m \u001b[1;36m7\u001b[0m\u001b[1;33m\u001b[0m\u001b[1;33m\u001b[0m\u001b[0m\n\u001b[1;32m----> 3\u001b[1;33m \u001b[0mprint\u001b[0m\u001b[1;33m(\u001b[0m\u001b[0mMotor\u001b[0m\u001b[1;33m+\u001b[0m\u001b[0mmobil\u001b[0m\u001b[1;33m)\u001b[0m\u001b[1;33m\u001b[0m\u001b[1;33m\u001b[0m\u001b[0m\n\u001b[0m",
      "\u001b[1;31mNameError\u001b[0m: name 'Motor' is not defined"
     ]
    }
   ],
   "source": [
    "motor = 5\n",
    "mobil = 7\n",
    "print(Motor+mobil)\n",
    "\n",
    "#terjadi error karna perbedaan huruf kapital dan huruf kecil pada line 3 pada kalimat \"Motor\""
   ]
  },
  {
   "cell_type": "code",
   "execution_count": 6,
   "id": "b2798324",
   "metadata": {},
   "outputs": [
    {
     "name": "stdout",
     "output_type": "stream",
     "text": [
      "35\n",
      "-2\n"
     ]
    }
   ],
   "source": [
    "print(motor*mobil)\n",
    "print(motor-mobil)"
   ]
  },
  {
   "cell_type": "code",
   "execution_count": 7,
   "id": "5be8069f",
   "metadata": {},
   "outputs": [
    {
     "name": "stdout",
     "output_type": "stream",
     "text": [
      "anna adalah seorang mahasiswa di universitas udayana.\n"
     ]
    }
   ],
   "source": [
    "nama = 'anna'\n",
    "pekerjaan = 'mahasiswa'\n",
    "institusi = 'universitas udayana'\n",
    "print(nama + ' adalah seorang ' + pekerjaan + ' di ' + institusi + '.')\n",
    "\n",
    "#tadi pemakaian spasinya disini sempet salah"
   ]
  },
  {
   "cell_type": "code",
   "execution_count": 8,
   "id": "8dc849bc",
   "metadata": {},
   "outputs": [
    {
     "ename": "SyntaxError",
     "evalue": "invalid syntax (4059149139.py, line 4)",
     "output_type": "error",
     "traceback": [
      "\u001b[1;36m  File \u001b[1;32m\"C:\\Users\\zYe\\AppData\\Local\\Temp\\ipykernel_14132\\4059149139.py\"\u001b[1;36m, line \u001b[1;32m4\u001b[0m\n\u001b[1;33m    print(uang di dompet)\u001b[0m\n\u001b[1;37m               ^\u001b[0m\n\u001b[1;31mSyntaxError\u001b[0m\u001b[1;31m:\u001b[0m invalid syntax\n"
     ]
    }
   ],
   "source": [
    "mahasiswa = 42\n",
    "uang_di_dompet = 100000\n",
    "print(mahasiswa)\n",
    "print(uang di dompet)\n",
    "print(mahasiswa*uang_di_dompet)\n",
    "\n",
    "#terjadi error karna kurang tanda underscore pada line 4"
   ]
  },
  {
   "cell_type": "code",
   "execution_count": 3,
   "id": "47a6b8a1",
   "metadata": {},
   "outputs": [
    {
     "name": "stdout",
     "output_type": "stream",
     "text": [
      "anna hewraa itaa etaaa\n"
     ]
    }
   ],
   "source": [
    "nama_depan = 'anna '\n",
    "nama_tengah = 'hewraa itaa'\n",
    "nama_belakang = ' etaaa'\n",
    "print (nama_depan + nama_tengah + nama_belakang)"
   ]
  },
  {
   "cell_type": "code",
   "execution_count": 4,
   "id": "c92c8dc5",
   "metadata": {},
   "outputs": [
    {
     "name": "stdout",
     "output_type": "stream",
     "text": [
      "Siapakah nama anda? anaaa\n",
      "Apakah kegiatan anda sekarang, anaaa? kelass\n",
      "Semangat kelassnya yah, anaaa!\n"
     ]
    }
   ],
   "source": [
    "nama = input(\"Siapakah nama anda? \")\n",
    "kegiatan = input('Apakah kegiatan anda sekarang, ' + nama +\"? \")\n",
    "print(\"Semangat \"+ kegiatan +\"nya yah, \" + nama + \"!\")"
   ]
  },
  {
   "cell_type": "code",
   "execution_count": 9,
   "id": "61a5e922",
   "metadata": {},
   "outputs": [
    {
     "name": "stdout",
     "output_type": "stream",
     "text": [
      "Berapakah jumlah uang yang kamu punya? 70000000\n",
      "Berapakah jumlah uang kamu di bank? 200000000\n",
      "Total uang anda adalah Rp 14000000000000000\n"
     ]
    }
   ],
   "source": [
    "dompet = input('Berapakah jumlah uang yang kamu punya? ')\n",
    "bank = input('Berapakah jumlah uang kamu di bank? ') \n",
    "total_uang = int(dompet) * int(bank)\n",
    "print('Total uang anda adalah Rp ' +  str(total_uang))\n",
    "\n",
    "#penjumlahan disini sempet error"
   ]
  },
  {
   "cell_type": "code",
   "execution_count": 9,
   "id": "05a0f0a5",
   "metadata": {},
   "outputs": [
    {
     "name": "stdout",
     "output_type": "stream",
     "text": [
      "jumlah murid di kelas ada 80 siswa\n"
     ]
    }
   ],
   "source": [
    "kelas = 2\n",
    "murid_di_kelas = 40\n",
    "jumlah_murid = int(kelas) * int(murid_di_kelas)\n",
    "print(\"jumlah murid di kelas ada \" + str (jumlah_murid) + \" siswa\")\n",
    "\n",
    "#disni sempet ngulang-ngulang karna error terus, tapi setelah dicoba terus akhirnya bisa ke run"
   ]
  },
  {
   "cell_type": "code",
   "execution_count": 11,
   "id": "16a106bc",
   "metadata": {},
   "outputs": [
    {
     "ename": "SyntaxError",
     "evalue": "invalid syntax (2687428111.py, line 2)",
     "output_type": "error",
     "traceback": [
      "\u001b[1;36m  File \u001b[1;32m\"C:\\Users\\zYe\\AppData\\Local\\Temp\\ipykernel_14132\\2687428111.py\"\u001b[1;36m, line \u001b[1;32m2\u001b[0m\n\u001b[1;33m    print(\"Semangat belajar \" + matkul + !! )\u001b[0m\n\u001b[1;37m                                         ^\u001b[0m\n\u001b[1;31mSyntaxError\u001b[0m\u001b[1;31m:\u001b[0m invalid syntax\n"
     ]
    }
   ],
   "source": [
    "matkul = input(\"mata kuliah apa sekarang?\")\n",
    "print(\"Semangat belajar \" + matkul + !! )\n",
    "\n",
    "#terjadi error karna tidak isi tanda petik pada line 2 yang seharusnya adalah \"!!\""
   ]
  },
  {
   "cell_type": "code",
   "execution_count": 10,
   "id": "61e44411",
   "metadata": {},
   "outputs": [
    {
     "name": "stdout",
     "output_type": "stream",
     "text": [
      "berapakah jumlah matkul hari senin ? 3\n",
      "berapakah jumlah matkul hari selasa ? 2\n"
     ]
    },
    {
     "ename": "NameError",
     "evalue": "name 'Matkul_senin' is not defined",
     "output_type": "error",
     "traceback": [
      "\u001b[1;31m---------------------------------------------------------------------------\u001b[0m",
      "\u001b[1;31mNameError\u001b[0m                                 Traceback (most recent call last)",
      "\u001b[1;32m~\\AppData\\Local\\Temp\\ipykernel_14132\\2787571299.py\u001b[0m in \u001b[0;36m<module>\u001b[1;34m\u001b[0m\n\u001b[0;32m      1\u001b[0m \u001b[0mmatkul_senin\u001b[0m \u001b[1;33m=\u001b[0m \u001b[0minput\u001b[0m\u001b[1;33m(\u001b[0m\u001b[1;34m\"berapakah jumlah matkul hari senin ? \"\u001b[0m\u001b[1;33m)\u001b[0m\u001b[1;33m\u001b[0m\u001b[1;33m\u001b[0m\u001b[0m\n\u001b[0;32m      2\u001b[0m \u001b[0mmatkul_selasa\u001b[0m \u001b[1;33m=\u001b[0m \u001b[0minput\u001b[0m\u001b[1;33m(\u001b[0m\u001b[1;34m\"berapakah jumlah matkul hari selasa ? \"\u001b[0m\u001b[1;33m)\u001b[0m\u001b[1;33m\u001b[0m\u001b[1;33m\u001b[0m\u001b[0m\n\u001b[1;32m----> 3\u001b[1;33m \u001b[0mtotal_matkul\u001b[0m \u001b[1;33m=\u001b[0m \u001b[0mint\u001b[0m\u001b[1;33m(\u001b[0m\u001b[0mMatkul_senin\u001b[0m\u001b[1;33m)\u001b[0m \u001b[1;33m+\u001b[0m \u001b[0mint\u001b[0m\u001b[1;33m(\u001b[0m\u001b[0mMatkul_selasa\u001b[0m\u001b[1;33m)\u001b[0m\u001b[1;33m\u001b[0m\u001b[1;33m\u001b[0m\u001b[0m\n\u001b[0m\u001b[0;32m      4\u001b[0m \u001b[0mprint\u001b[0m\u001b[1;33m(\u001b[0m\u001b[1;34m\"Jumlah matkul senin & selasa adalah \"\u001b[0m \u001b[1;33m+\u001b[0m \u001b[0mstr\u001b[0m \u001b[1;33m(\u001b[0m\u001b[0mtotal_matkul\u001b[0m\u001b[1;33m)\u001b[0m\u001b[1;33m)\u001b[0m\u001b[1;33m\u001b[0m\u001b[1;33m\u001b[0m\u001b[0m\n\u001b[0;32m      5\u001b[0m \u001b[1;33m\u001b[0m\u001b[0m\n",
      "\u001b[1;31mNameError\u001b[0m: name 'Matkul_senin' is not defined"
     ]
    }
   ],
   "source": [
    "matkul_senin = input(\"berapakah jumlah matkul hari senin ? \")\n",
    "matkul_selasa = input(\"berapakah jumlah matkul hari selasa ? \")\n",
    "total_matkul = int(Matkul_senin) + int(Matkul_selasa)\n",
    "print(\"Jumlah matkul senin & selasa adalah \" + str (total_matkul))\n",
    "\n",
    "#terjadi error karena adanya perbedaan huruf kecil dan kapital pada line 3"
   ]
  },
  {
   "cell_type": "code",
   "execution_count": 11,
   "id": "c6e5e4cd",
   "metadata": {},
   "outputs": [
    {
     "name": "stdout",
     "output_type": "stream",
     "text": [
      "Berapakah uang kamu di dompet ? 500000\n",
      "Berapakah uang yang kamu habiskan untuk belanja ? 250000\n",
      "Jumlah uang yang kamu punya sekarang adalah Rp 250000\n"
     ]
    }
   ],
   "source": [
    "uang_di_dompet = input(\"Berapakah uang kamu di dompet ? \")\n",
    "belanja = input(\"Berapakah uang yang kamu habiskan untuk belanja ? \")\n",
    "total_uang = int(uang_di_dompet) - int(belanja)\n",
    "print(\"Jumlah uang yang kamu punya sekarang adalah Rp \" + str(total_uang))\n",
    "\n",
    "#sempet error sebentar disini karna tidak isi kata \"input\""
   ]
  },
  {
   "cell_type": "code",
   "execution_count": null,
   "id": "675e15ec",
   "metadata": {},
   "outputs": [],
   "source": []
  }
 ],
 "metadata": {
  "kernelspec": {
   "display_name": "Python 3 (ipykernel)",
   "language": "python",
   "name": "python3"
  },
  "language_info": {
   "codemirror_mode": {
    "name": "ipython",
    "version": 3
   },
   "file_extension": ".py",
   "mimetype": "text/x-python",
   "name": "python",
   "nbconvert_exporter": "python",
   "pygments_lexer": "ipython3",
   "version": "3.9.13"
  }
 },
 "nbformat": 4,
 "nbformat_minor": 5
}
