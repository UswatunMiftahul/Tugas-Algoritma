{
 "cells": [
  {
   "cell_type": "code",
   "execution_count": 1,
   "id": "dd03a576",
   "metadata": {
    "scrolled": true
   },
   "outputs": [
    {
     "name": "stdout",
     "output_type": "stream",
     "text": [
      "pantai di sore hari \n"
     ]
    }
   ],
   "source": [
    "pantai = \"Pemandangan pantai di sore hari sangatlah indah\"\n",
    "print(pantai[12:32])"
   ]
  },
  {
   "cell_type": "code",
   "execution_count": 3,
   "id": "b553bfa3",
   "metadata": {},
   "outputs": [
    {
     "name": "stdout",
     "output_type": "stream",
     "text": [
      "sangatlah inda\n",
      "pantai di sore hari sangatlah indah\n"
     ]
    }
   ],
   "source": [
    "print(pantai[32:-1])\n",
    "print(pantai[12:])\n",
    "\n",
    "# x nya yaitu 12 dan y nya tak terhingga(kosong), jadi dimulai dari urutan 12 sampai selesai (tak terhingga)"
   ]
  },
  {
   "cell_type": "code",
   "execution_count": 5,
   "id": "eceecea8",
   "metadata": {},
   "outputs": [
    {
     "name": "stdout",
     "output_type": "stream",
     "text": [
      "Saya Mahasiswa di Universitas \n"
     ]
    }
   ],
   "source": [
    "status=\"Saya Mahasiswa di Universitas Udayana\"\n",
    "print(status[:-7])\n",
    "\n",
    "# x nya yaitu kosong dan y nya -7(data ke 7 dari akhir), jadi dimulai dari awal sampai -6"
   ]
  },
  {
   "cell_type": "code",
   "execution_count": 6,
   "id": "7860c590",
   "metadata": {},
   "outputs": [
    {
     "name": "stdout",
     "output_type": "stream",
     "text": [
      "yMas  irt an\n"
     ]
    }
   ],
   "source": [
    "print(status[2:-1:3])\n",
    "\n",
    "# misalkan variabel x,y,z\n",
    "# x(2) akan muncul huruf pada urutan kedua.\n",
    "# untuk y(-1) karna negatif berarti dimulai dari akhir dan tidak muncul\n",
    "# dan untuk z(3) itu adalah angka yang akan muncul adalah kelipatan 3"
   ]
  },
  {
   "cell_type": "code",
   "execution_count": 7,
   "id": "efbb5193",
   "metadata": {},
   "outputs": [],
   "source": [
    "nama = \"Nama kucing saya adalah alice\""
   ]
  },
  {
   "cell_type": "code",
   "execution_count": 9,
   "id": "4a99c71d",
   "metadata": {},
   "outputs": [
    {
     "name": "stdout",
     "output_type": "stream",
     "text": [
      "29\n"
     ]
    }
   ],
   "source": [
    "print(len(nama))\n",
    "\n",
    "#menghitung jumlah huruf pada kalimat diatas"
   ]
  },
  {
   "cell_type": "code",
   "execution_count": 10,
   "id": "58aeb5ad",
   "metadata": {},
   "outputs": [
    {
     "data": {
      "text/plain": [
       "'NAMA KUCING SAYA ADALAH ALICE'"
      ]
     },
     "execution_count": 10,
     "metadata": {},
     "output_type": "execute_result"
    }
   ],
   "source": [
    "nama.upper()\n",
    "\n",
    "#mengubah kalimat diatas menjadi huruf kapital semua"
   ]
  },
  {
   "cell_type": "code",
   "execution_count": 11,
   "id": "231a2fc1",
   "metadata": {},
   "outputs": [
    {
     "data": {
      "text/plain": [
       "'nama kucing saya adalah alice'"
      ]
     },
     "execution_count": 11,
     "metadata": {},
     "output_type": "execute_result"
    }
   ],
   "source": [
    "nama.lower()\n",
    "\n",
    "#mengubah kalimat diatas menjadi huruf kecil semua"
   ]
  },
  {
   "cell_type": "code",
   "execution_count": 12,
   "id": "c85da95e",
   "metadata": {},
   "outputs": [
    {
     "data": {
      "text/plain": [
       "24"
      ]
     },
     "execution_count": 12,
     "metadata": {},
     "output_type": "execute_result"
    }
   ],
   "source": [
    "nama.find('alice')\n",
    "\n",
    "#menentukan kata tersebut pada urutan yang ke ... dari kalimat diatas"
   ]
  },
  {
   "cell_type": "code",
   "execution_count": 14,
   "id": "c3604e9e",
   "metadata": {},
   "outputs": [
    {
     "data": {
      "text/plain": [
       "-1"
      ]
     },
     "execution_count": 14,
     "metadata": {},
     "output_type": "execute_result"
    }
   ],
   "source": [
    "nama.find('nama')\n",
    "\n",
    "#kata tersebut berarti tidak ada dalam kalimat diatas"
   ]
  },
  {
   "cell_type": "code",
   "execution_count": 15,
   "id": "a26059e3",
   "metadata": {},
   "outputs": [
    {
     "data": {
      "text/plain": [
       "'Nama kucing saya adalah oreo'"
      ]
     },
     "execution_count": 15,
     "metadata": {},
     "output_type": "execute_result"
    }
   ],
   "source": [
    "nama.replace(\"alice\",\"oreo\")\n",
    "\n",
    "#mengganti kalimat diatas, kata \"alice\" dengan \"oreo\""
   ]
  },
  {
   "cell_type": "code",
   "execution_count": 23,
   "id": "9446020a",
   "metadata": {},
   "outputs": [
    {
     "data": {
      "text/plain": [
       "'Nama kucing saya adalah alice'"
      ]
     },
     "execution_count": 23,
     "metadata": {},
     "output_type": "execute_result"
    }
   ],
   "source": [
    "nama.replace(\"Alice\",\"oero\")\n",
    "\n",
    "#jika kalimat tidak berubah maka ada yang salah, kesalahan disini adalah kata \"alice\" menggunakan awalan kapital"
   ]
  },
  {
   "cell_type": "code",
   "execution_count": 24,
   "id": "a7c8d8d3",
   "metadata": {},
   "outputs": [
    {
     "name": "stdout",
     "output_type": "stream",
     "text": [
      "True\n"
     ]
    }
   ],
   "source": [
    "print(\"kucing\" in nama)\n",
    "\n",
    "#jika hasil nya true maka kata \"kucing\" tersebut benar adanya pada kalimat diatas"
   ]
  },
  {
   "cell_type": "code",
   "execution_count": 25,
   "id": "ab2d3570",
   "metadata": {},
   "outputs": [
    {
     "name": "stdout",
     "output_type": "stream",
     "text": [
      "False\n"
     ]
    }
   ],
   "source": [
    "print(\"Kucing\" in nama)\n",
    "\n",
    "#jika hasil nya false maka berarti kata \"Kucing\" tersebut tidak ada pada kalimat diatas"
   ]
  },
  {
   "cell_type": "code",
   "execution_count": 26,
   "id": "3649b4fe",
   "metadata": {},
   "outputs": [
    {
     "name": "stdout",
     "output_type": "stream",
     "text": [
      "7\n",
      "-2\n",
      "30\n",
      "6.8\n",
      "6\n",
      "4\n",
      "81\n"
     ]
    }
   ],
   "source": [
    "print(2+5)\n",
    "#operasi penjumlahan\n",
    "print(3-5)\n",
    "#operasi pengurangan\n",
    "print(5*6)\n",
    "#operasi perkalian\n",
    "print(34/5)\n",
    "#operasi pembagian\n",
    "print(34//5)\n",
    "#operasi pembulatan pembagian\n",
    "print(34%5)\n",
    "#modulo\n",
    "print(3**4)\n",
    "#operasi pangkat"
   ]
  },
  {
   "cell_type": "code",
   "execution_count": 28,
   "id": "dabb226b",
   "metadata": {},
   "outputs": [
    {
     "name": "stdout",
     "output_type": "stream",
     "text": [
      "55\n"
     ]
    }
   ],
   "source": [
    "x=50\n",
    "x+=5\n",
    "print(x)\n",
    "\n",
    "#penjumlahan antara x pertama dan x kedua"
   ]
  },
  {
   "cell_type": "code",
   "execution_count": 29,
   "id": "697a1eda",
   "metadata": {},
   "outputs": [
    {
     "name": "stdout",
     "output_type": "stream",
     "text": [
      "45\n"
     ]
    }
   ],
   "source": [
    "x-=10\n",
    "print(x)\n",
    "\n",
    "#pengurangan hasil dari x yang pertama di kode sebelumnya dengan x yang diinput disini"
   ]
  },
  {
   "cell_type": "code",
   "execution_count": 31,
   "id": "e5abaee6",
   "metadata": {},
   "outputs": [
    {
     "name": "stdout",
     "output_type": "stream",
     "text": [
      "450\n"
     ]
    }
   ],
   "source": [
    "x*=10\n",
    "print(x)\n",
    "\n",
    "#perkalian dari hasil x pada sebelumnya yaitu (45) dengan x yang diinput disini"
   ]
  },
  {
   "cell_type": "code",
   "execution_count": 1,
   "id": "d3442307",
   "metadata": {},
   "outputs": [
    {
     "name": "stdout",
     "output_type": "stream",
     "text": [
      "True\n",
      "False\n",
      "True\n",
      "True\n",
      "True\n",
      "False\n"
     ]
    }
   ],
   "source": [
    "x= 10>2\n",
    "print(x)\n",
    "#perbandingan lebih besar\n",
    "x= 5<2\n",
    "print(x)\n",
    "#perbandingan lebih kecil\n",
    "x= 8 >= 7\n",
    "print(x)\n",
    "#perbandingan lebih besar sama dengan\n",
    "x= 7 <= 8\n",
    "print(x)\n",
    "#perbandingan lebih kecil sama dengan\n",
    "x= 6==6\n",
    "print (x)\n",
    "#perbandingan sama dengan\n",
    "x= 6!=6\n",
    "print(x)\n",
    "#perbandingan tidak sama dengan"
   ]
  },
  {
   "cell_type": "code",
   "execution_count": 2,
   "id": "d6664850",
   "metadata": {},
   "outputs": [
    {
     "name": "stdout",
     "output_type": "stream",
     "text": [
      "True\n"
     ]
    }
   ],
   "source": [
    "buah_klengkeng = 20\n",
    "buah_mangga = 15\n",
    "print(buah_klengkeng > 15 and buah_mangga < 18)\n",
    "\n",
    "#menentukan nilai kebenaran antara lebih dari dan kurang dari, jika true and true maka hasilnya akan true"
   ]
  },
  {
   "cell_type": "code",
   "execution_count": 3,
   "id": "0bc5a70f",
   "metadata": {},
   "outputs": [
    {
     "name": "stdout",
     "output_type": "stream",
     "text": [
      "False\n"
     ]
    }
   ],
   "source": [
    "print(buah_klengkeng < 15 or buah_mangga < 14)\n",
    "\n",
    "#menentukan nilai kebenaran antara kurang dari atau kurang dari, jika false atau false maka hasilnya akan false"
   ]
  },
  {
   "cell_type": "code",
   "execution_count": 4,
   "id": "b2fdfb9d",
   "metadata": {},
   "outputs": [
    {
     "ename": "SyntaxError",
     "evalue": "invalid syntax. Perhaps you forgot a comma? (3588799401.py, line 1)",
     "output_type": "error",
     "traceback": [
      "\u001b[1;36m  Cell \u001b[1;32mIn[4], line 1\u001b[1;36m\u001b[0m\n\u001b[1;33m    print(buah klengkeng <15 or buah_mangga < 14)\u001b[0m\n\u001b[1;37m          ^\u001b[0m\n\u001b[1;31mSyntaxError\u001b[0m\u001b[1;31m:\u001b[0m invalid syntax. Perhaps you forgot a comma?\n"
     ]
    }
   ],
   "source": [
    "print(buah klengkeng < 15 or buah_mangga < 14)\n",
    "\n",
    "#terjadi error disini karna tidak adanya underscore pada kata buah klengkeng yang seharusnya adalah \"buah_klengkeng\""
   ]
  },
  {
   "cell_type": "code",
   "execution_count": 7,
   "id": "2bc76d73",
   "metadata": {},
   "outputs": [
    {
     "name": "stdout",
     "output_type": "stream",
     "text": [
      "True\n"
     ]
    }
   ],
   "source": [
    "print(not (buah_klengkeng < 15 and buah_mangga > 17))\n",
    "\n",
    "#karna disini ada kata not maka akan menghasilkan nilai yang berlawanan\n",
    "#sempet salah disini karna lupa memakai underscore dan lupa memasukkan angka nya"
   ]
  },
  {
   "cell_type": "code",
   "execution_count": 10,
   "id": "53ce92c7",
   "metadata": {
    "scrolled": true
   },
   "outputs": [
    {
     "name": "stdout",
     "output_type": "stream",
     "text": [
      "Berapakah umur anda ? 8\n",
      "Anda sedang menempuh pendidikan SD\n",
      "Semangat belajar nya !!\n"
     ]
    }
   ],
   "source": [
    "pendidikan = float(input(\"Berapakah umur anda ? \"))\n",
    "if pendidikan >= 18:\n",
    "    print(\"Anda sedang berkuliah atau bekerja ya\")\n",
    "    print(\"Semangatt buat kalian!!\")\n",
    "elif pendidikan >= 16:\n",
    "    print(\"Anda sedang menempuh pendidikan SMA\")\n",
    "    print(\"Semangat belajar nya !!\")\n",
    "elif pendidikan >= 14:\n",
    "    print(\"Anda sedang menempuh pendidikan SMP\")\n",
    "    print(\"Semangat belajar nya !!\")\n",
    "elif pendidikan >= 7:\n",
    "    print(\"Anda sedang menempuh pendidikan SD\")\n",
    "    print(\"Semangat belajar nya !!\")"
   ]
  },
  {
   "cell_type": "code",
   "execution_count": null,
   "id": "ff331614",
   "metadata": {},
   "outputs": [],
   "source": []
  }
 ],
 "metadata": {
  "kernelspec": {
   "display_name": "Python 3 (ipykernel)",
   "language": "python",
   "name": "python3"
  },
  "language_info": {
   "codemirror_mode": {
    "name": "ipython",
    "version": 3
   },
   "file_extension": ".py",
   "mimetype": "text/x-python",
   "name": "python",
   "nbconvert_exporter": "python",
   "pygments_lexer": "ipython3",
   "version": "3.10.9"
  }
 },
 "nbformat": 4,
 "nbformat_minor": 5
}
